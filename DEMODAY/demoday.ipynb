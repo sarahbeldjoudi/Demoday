{
 "cells": [
  {
   "attachments": {},
   "cell_type": "markdown",
   "metadata": {},
   "source": [
    "# DEMODAY"
   ]
  },
  {
   "attachments": {},
   "cell_type": "markdown",
   "metadata": {},
   "source": [
    "<strong> L'objectif du BRFSS est de recueillir des données uniformes spécifiques à l'État sur les comportements à risque pour la santé, les maladies et affections chroniques, l'accès aux soins de santé et l'utilisation de services de santé préventifs liés aux principales causes de décès et d'invalidité aux États-Unis. BRFSS effectue des enquêtes par téléphone fixe et mobile auprès de personnes âgées de plus de 18 ans. Les facteurs généraux évalués par le BRFSS en 2020 comprenaient l'état de santé et les journées en bonne santé, l'exercice, le manque de sommeil, les problèmes de santé chroniques, la santé buccodentaire, le tabagisme, le dépistage du cancer et l'accès aux soins de santé. </strong>"
   ]
  },
  {
   "attachments": {},
   "cell_type": "markdown",
   "metadata": {},
   "source": [
    "## Import des librairies"
   ]
  },
  {
   "cell_type": "code",
   "execution_count": 1,
   "metadata": {},
   "outputs": [],
   "source": [
    " import pandas as pd\n",
    " import numpy as np\n",
    " import seaborn as sns"
   ]
  },
  {
   "attachments": {},
   "cell_type": "markdown",
   "metadata": {},
   "source": [
    "## Import de la base"
   ]
  }
 ],
 "metadata": {
  "kernelspec": {
   "display_name": "base",
   "language": "python",
   "name": "python3"
  },
  "language_info": {
   "codemirror_mode": {
    "name": "ipython",
    "version": 3
   },
   "file_extension": ".py",
   "mimetype": "text/x-python",
   "name": "python",
   "nbconvert_exporter": "python",
   "pygments_lexer": "ipython3",
   "version": "3.9.12"
  },
  "orig_nbformat": 4
 },
 "nbformat": 4,
 "nbformat_minor": 2
}
